{
 "cells": [
  {
   "cell_type": "code",
   "execution_count": 1,
   "id": "1885c3fc-5266-4074-813f-6729baf490a6",
   "metadata": {},
   "outputs": [],
   "source": [
    "#create two vectors then get the product of the two vectors using numpy. \n",
    "# allowed numpy functions: array, dot"
   ]
  },
  {
   "cell_type": "code",
   "execution_count": 4,
   "id": "561e5f51-e21c-4774-88da-9c2d2aa29273",
   "metadata": {},
   "outputs": [],
   "source": [
    "#create two random matrices then multiply them using numpy.\n",
    "# allowed numpy functions: array, dot, multiply, randint"
   ]
  },
  {
   "cell_type": "code",
   "execution_count": 7,
   "id": "1f323273-efff-4d91-9a9b-5761adf91093",
   "metadata": {},
   "outputs": [],
   "source": [
    "# calculate pi using monte carlo method"
   ]
  },
  {
   "cell_type": "code",
   "execution_count": null,
   "id": "a8b2acfc-1cfa-4465-ac02-4a726b470dc5",
   "metadata": {},
   "outputs": [],
   "source": [
    "# Linear regresion"
   ]
  }
 ],
 "metadata": {
  "kernelspec": {
   "display_name": "Python 3",
   "language": "python",
   "name": "python3"
  },
  "language_info": {
   "codemirror_mode": {
    "name": "ipython",
    "version": 3
   },
   "file_extension": ".py",
   "mimetype": "text/x-python",
   "name": "python",
   "nbconvert_exporter": "python",
   "pygments_lexer": "ipython3",
   "version": "3.7.8"
  }
 },
 "nbformat": 4,
 "nbformat_minor": 5
}
